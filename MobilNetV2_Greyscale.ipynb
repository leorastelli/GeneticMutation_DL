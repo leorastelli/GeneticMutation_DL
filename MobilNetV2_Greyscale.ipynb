{
  "nbformat": 4,
  "nbformat_minor": 0,
  "metadata": {
    "colab": {
      "provenance": [],
      "gpuType": "T4"
    },
    "kernelspec": {
      "name": "python3",
      "display_name": "Python 3"
    },
    "language_info": {
      "name": "python"
    },
    "accelerator": "GPU"
  },
  "cells": [
    {
      "cell_type": "code",
      "execution_count": 1,
      "metadata": {
        "id": "jBFptI3hkeyG"
      },
      "outputs": [],
      "source": [
        "#immporto librerie\n",
        "import tensorflow as tf\n",
        "from tensorflow import keras\n",
        "from tensorflow.keras.preprocessing.image import ImageDataGenerator\n",
        "from tensorflow.keras.models import Sequential\n",
        "from tensorflow.keras.layers import Dense, Dropout, Activation, Flatten\n",
        "from tensorflow.keras.layers import Conv2D, MaxPooling2D\n",
        "from tensorflow.keras.optimizers import RMSprop\n",
        "import numpy as np\n",
        "import matplotlib.pyplot as plt\n",
        "%matplotlib inline"
      ]
    },
    {
      "cell_type": "code",
      "source": [
        "from sklearn.model_selection import train_test_split"
      ],
      "metadata": {
        "id": "RZQ9W4_hk9Zr"
      },
      "execution_count": 2,
      "outputs": []
    },
    {
      "cell_type": "code",
      "source": [
        "import cv2\n",
        "import os\n",
        "import re\n",
        "import random"
      ],
      "metadata": {
        "id": "G5ck-g3Qk-Ff"
      },
      "execution_count": 3,
      "outputs": []
    },
    {
      "cell_type": "code",
      "source": [
        "from google.colab import drive\n",
        "drive.mount('/content/drive/')"
      ],
      "metadata": {
        "colab": {
          "base_uri": "https://localhost:8080/"
        },
        "id": "fXL5tOCflAhB",
        "outputId": "faa7bc61-fe1b-49a9-998b-8be973bb8e15"
      },
      "execution_count": 4,
      "outputs": [
        {
          "output_type": "stream",
          "name": "stdout",
          "text": [
            "Mounted at /content/drive/\n"
          ]
        }
      ]
    },
    {
      "cell_type": "code",
      "source": [
        "#Unione delle cartelle immagini e caricamento dataset\n",
        "\n",
        "os.chdir(\"/content/drive/My Drive/Progetto DL\")\n",
        "\n",
        "folder =  \"./dati_genetici.zip\"\n",
        "images = []\n",
        "labels = [] #etichette 0,1. 0:neutral, 1:selection\n",
        "\n",
        "#target_size = (48,1000) #Dimensione delle immagini\n",
        "\n",
        "def load_images_from_folder_recursive(folder):\n",
        "    \"\"\"\n",
        "    Entra ricorsivamente nelle directory che contengono le immagini dei dataset\n",
        "    di training e di test, le legge e le aggiunge alla lista delle immagini.\n",
        "    A ogni immagine viene associata un'etichetta: 0 se l'immagine è neutral,\n",
        "    1 se è una selection.\n",
        "    \"\"\"\n",
        "    for item_name in os.listdir(folder):\n",
        "        item_path = os.path.join(folder, item_name)\n",
        "\n",
        "        if os.path.isdir(item_path):\n",
        "            print(f\"Directory: {item_path}\")\n",
        "            load_images_from_folder_recursive(item_path)\n",
        "        elif os.path.isfile(item_path):\n",
        "            #print(f\"file: {item_path}\")\n",
        "            if re.search(r\"selection\", item_path):\n",
        "                labels.append(1)\n",
        "            else:\n",
        "                labels.append(0)\n",
        "            img = cv2.imread(item_path)\n",
        "            if img is not None:\n",
        "            #if img.shape != (1000,48,3):\n",
        "             #   img = cv2.resize(img, target_size)\n",
        "              images.append(img)\n",
        "\n",
        "\n",
        "load_images_from_folder_recursive(folder)\n",
        "\n",
        "\n",
        "print(f\"Loaded {len(images)} images.\")\n",
        "print(f\"Loaded {len(labels)} labels.\")"
      ],
      "metadata": {
        "colab": {
          "base_uri": "https://localhost:8080/"
        },
        "id": "8QGai1XwlyqJ",
        "outputId": "03941a4a-5ea5-44c7-f65a-d94613e89515"
      },
      "execution_count": 5,
      "outputs": [
        {
          "output_type": "stream",
          "name": "stdout",
          "text": [
            "Directory: ./dati_genetici.zip/NEUTRAL\n",
            "Directory: ./dati_genetici.zip/NEUTRAL/TEST_IMG\n",
            "Directory: ./dati_genetici.zip/NEUTRAL/TRAIN_IMG\n",
            "Directory: ./dati_genetici.zip/SELECTION\n",
            "Directory: ./dati_genetici.zip/SELECTION/TEST_IMG\n",
            "Directory: ./dati_genetici.zip/SELECTION/TRAIN_IMG\n",
            "Loaded 2080 images.\n",
            "Loaded 2080 labels.\n"
          ]
        }
      ]
    },
    {
      "cell_type": "code",
      "source": [
        "#Eliminazione dell'immagine che ha un formato diverso (1002, 48, 3)\n",
        "\n",
        "delete_img_index = []\n",
        "for index,img in enumerate(images):\n",
        "  if img.shape != (1000,48,3):\n",
        "    delete_img_index.append(index)\n",
        "\n",
        "for index in delete_img_index:\n",
        "  images.pop(index)\n",
        "  labels.pop(index)\n",
        "\n",
        "print(f\"Loaded {len(images)} images.\")\n",
        "print(f\"Loaded {len(labels)} labels.\")"
      ],
      "metadata": {
        "colab": {
          "base_uri": "https://localhost:8080/"
        },
        "id": "JyFE7jWLl3Ab",
        "outputId": "e45d8f2c-de43-481b-d3d0-1c7df2d27cb5"
      },
      "execution_count": 6,
      "outputs": [
        {
          "output_type": "stream",
          "name": "stdout",
          "text": [
            "Loaded 2079 images.\n",
            "Loaded 2079 labels.\n"
          ]
        }
      ]
    },
    {
      "cell_type": "code",
      "source": [
        "images[1750].shape"
      ],
      "metadata": {
        "colab": {
          "base_uri": "https://localhost:8080/"
        },
        "id": "2V2Cmaj3l4p5",
        "outputId": "8a7b1851-452b-421b-e68f-3b6504b9b128"
      },
      "execution_count": 7,
      "outputs": [
        {
          "output_type": "execute_result",
          "data": {
            "text/plain": [
              "(1000, 48, 3)"
            ]
          },
          "metadata": {},
          "execution_count": 7
        }
      ]
    },
    {
      "cell_type": "code",
      "source": [
        "#Converto immagine originale con 3 canali colore in 1 canale colore\n",
        "#Itero su tutte le immagini\n",
        "grayscale_images = []\n",
        "for img in images:\n",
        "    #Nella scal di grigi len(img.shape)==2\n",
        "    if len(img.shape) > 2 and img.shape[2] == 3:\n",
        "        #Uso cv2.cvtColor per convertire in scala di grigi\n",
        "        gray_img = cv2.cvtColor(img, cv2.COLOR_BGR2GRAY)\n",
        "        grayscale_images.append(gray_img)\n",
        "    elif len(img.shape) == 2:\n",
        "        grayscale_images.append(img)\n",
        "    else:\n",
        "        print(f\"Skipping image with shape: {img.shape}\")\n"
      ],
      "metadata": {
        "id": "Nsuqzh8Yl63i"
      },
      "execution_count": 8,
      "outputs": []
    },
    {
      "cell_type": "code",
      "source": [
        "#Controllo che la conversione sia avvenuta correttamente\n",
        "print(grayscale_images[1750].shape)"
      ],
      "metadata": {
        "colab": {
          "base_uri": "https://localhost:8080/"
        },
        "id": "xWdcZjykl9gv",
        "outputId": "ac0088c4-a148-4276-83d3-6bfe4400946e"
      },
      "execution_count": 9,
      "outputs": [
        {
          "output_type": "stream",
          "name": "stdout",
          "text": [
            "(1000, 48)\n"
          ]
        }
      ]
    },
    {
      "cell_type": "code",
      "source": [
        "random.seed(42)"
      ],
      "metadata": {
        "id": "J65Qk8FtmACK"
      },
      "execution_count": 10,
      "outputs": []
    },
    {
      "cell_type": "code",
      "source": [
        "#Shuffle delle immagini e delle label (allo stesso modo)\n",
        "shuffled = sorted(zip(grayscale_images, labels), key=lambda _: random.random())\n",
        "grayscale_images, labels = zip(*shuffled)\n",
        "\n",
        "X, y = np.array(grayscale_images), np.array(labels)"
      ],
      "metadata": {
        "id": "PWGkgKKPmCI3"
      },
      "execution_count": 11,
      "outputs": []
    },
    {
      "cell_type": "code",
      "source": [
        "# Reshape X per aggiungere esplicitamente la dimensione 1 del canale colore\n",
        "X = X.reshape(X.shape[0], X.shape[1], X.shape[2], 1)"
      ],
      "metadata": {
        "id": "Sup6BI0QmGx1"
      },
      "execution_count": 12,
      "outputs": []
    },
    {
      "cell_type": "code",
      "source": [
        "#suddivisione randomica del dataset tra train (70%) e test (30%)\n",
        "X_train, X_test, y_train, y_test = train_test_split(X, y, test_size=0.3, random_state=42)\n",
        "\n",
        "#corversione e normalizzazione\n",
        "X_train = X_train.astype('float32')\n",
        "X_test = X_test.astype('float32')\n",
        "X_train /= 255\n",
        "X_test /= 255\n",
        "\n",
        "print(X_train[444])\n",
        "plt.imshow(X_train[444]);"
      ],
      "metadata": {
        "colab": {
          "base_uri": "https://localhost:8080/",
          "height": 1000
        },
        "id": "5Yizu4rumKz6",
        "outputId": "bf8ca703-53fc-489f-f23e-46980ac2324e"
      },
      "execution_count": 13,
      "outputs": [
        {
          "output_type": "stream",
          "name": "stdout",
          "text": [
            "[[[0.]\n",
            "  [0.]\n",
            "  [0.]\n",
            "  ...\n",
            "  [0.]\n",
            "  [0.]\n",
            "  [0.]]\n",
            "\n",
            " [[0.]\n",
            "  [0.]\n",
            "  [0.]\n",
            "  ...\n",
            "  [0.]\n",
            "  [0.]\n",
            "  [0.]]\n",
            "\n",
            " [[0.]\n",
            "  [0.]\n",
            "  [0.]\n",
            "  ...\n",
            "  [0.]\n",
            "  [0.]\n",
            "  [0.]]\n",
            "\n",
            " ...\n",
            "\n",
            " [[0.]\n",
            "  [0.]\n",
            "  [0.]\n",
            "  ...\n",
            "  [0.]\n",
            "  [0.]\n",
            "  [0.]]\n",
            "\n",
            " [[0.]\n",
            "  [0.]\n",
            "  [0.]\n",
            "  ...\n",
            "  [0.]\n",
            "  [0.]\n",
            "  [0.]]\n",
            "\n",
            " [[0.]\n",
            "  [0.]\n",
            "  [0.]\n",
            "  ...\n",
            "  [0.]\n",
            "  [0.]\n",
            "  [0.]]]\n"
          ]
        },
        {
          "output_type": "display_data",
          "data": {
            "text/plain": [
              "<Figure size 640x480 with 1 Axes>"
            ],
            "image/png": "[encoded data removed]"
          },
          "metadata": {}
        }
      ]
    },
    {
      "cell_type": "markdown",
      "source": [
        "[paper MobilNetV2](https://arxiv.org/pdf/1801.04381v4)\n",
        "\n",
        "https://thesis.unipd.it/retrieve/8a7c5885-2e7a-4348-868b-9793b8b0bc4f/pignotti_matteo_tesi.pdf\n",
        "\n",
        "https://github.com/NavodPeiris/MobileNet_96x96_greyscale_weights/tree/main"
      ],
      "metadata": {
        "id": "-VjV8oRW4t_8"
      }
    },
    {
      "cell_type": "code",
      "source": [
        "from transformers import MobileNetV2Config, MobileNetV2Model\n",
        "from tensorflow.keras.layers import GlobalAveragePooling2D, Dense\n",
        "from tensorflow.keras.models import Sequential\n",
        "from tensorflow.keras.optimizers import Adam\n",
        "import matplotlib.pyplot as plt\n",
        "from tensorflow.keras.applications import MobileNetV2\n",
        "\n",
        "#Creazone modelo MobilNetV2:\n",
        "# - input_shape(1000, 48, 1) dimensioni delle immagini di input proposte\n",
        "# - include_top=False, per non includere lo strato fully connected all'inizio della rete\n",
        "# - weights='mobilenetV2_0.35_96x96_greyscale_weights.h5', utilizza i pesi ottimizzati su immagini in scala di grigi\n",
        "\n",
        "\n",
        "base_model = MobileNetV2(input_shape=(1000, 48, 1), include_top=False, weights='./mobilenetV2_0.35_96x96_greyscale_weights.h5', alpha=0.35)\n",
        "base_model.trainable = False  # Per velocizzare\n",
        "\n",
        "#Incluso uno strato AveragePooling per diminuire le dimensioni delle immagini nell'output\n",
        "#Aggiunta dello strato fully connected 1 neurone per la classificazione con la sigmoide\n",
        "model = tf.keras.Sequential([\n",
        "    base_model,\n",
        "    tf.keras.layers.GlobalAveragePooling2D(),\n",
        "    tf.keras.layers.Dense(1, activation='sigmoid')\n",
        "])\n",
        "\n",
        "\n",
        "# Compilazione\n",
        "#Ottimiazzatore scelto: Adam (ha dato prestazioni migliori rispetto a RMSProp.\n",
        "#Learning rate: 0.0005\n",
        "model.compile(optimizer=Adam(learning_rate=0.0005),\n",
        "              loss='binary_crossentropy',\n",
        "              metrics=['accuracy'])\n",
        "\n",
        "# Addestramento\n",
        "#Fatto su 10 epoche, batch_size=32\n",
        "history = model.fit(\n",
        "    X_train, y_train,\n",
        "    validation_data=(X_test, y_test),\n",
        "    epochs=10,\n",
        "    batch_size=32,\n",
        "    shuffle=True\n",
        ")\n",
        "\n",
        "# Plot: andamento training/validation\n",
        "plt.figure(figsize=(12,5))\n",
        "plt.subplot(1,2,1)\n",
        "plt.plot(history.history['loss'], 'g', marker='.', label='Training Loss')\n",
        "plt.plot(history.history['val_loss'], 'b', marker='.', label='Validation Loss')\n",
        "plt.axhline(min(history.history['val_loss']), color='red', linestyle='--', label=f'Min Validation Loss: {min(history.history[\"val_loss\"]):.4f}')\n",
        "\n",
        "plt.title(\"Loss\")\n",
        "plt.xlabel(\"Epochs\")\n",
        "plt.ylabel(\"Loss\")\n",
        "plt.legend()\n",
        "\n",
        "plt.subplot(1,2,2)\n",
        "plt.plot(history.history['accuracy'], 'g', marker='.',label='Training Accuracy')\n",
        "plt.plot(history.history['val_accuracy'],'b', marker='.', label='Validation Accuracy')\n",
        "plt.axhline(max(history.history['val_accuracy']), color='red', linestyle='--', label=f'Max Validation Accuracy: {max(history.history[\"val_accuracy\"]):.4f}')\n",
        "\n",
        "plt.title(\"Accuracy\")\n",
        "plt.xlabel(\"Epochs\")\n",
        "plt.ylabel(\"Accuracy\")\n",
        "plt.legend()\n",
        "\n",
        "plt.tight_layout()\n",
        "plt.show()\n",
        "\n"
      ],
      "metadata": {
        "colab": {
          "base_uri": "https://localhost:8080/",
          "height": 864
        },
        "id": "KpJtvk03mOXJ",
        "outputId": "75d34037-9e85-4f76-90f3-bd4d1071c50f"
      },
      "execution_count": 14,
      "outputs": [
        {
          "output_type": "stream",
          "name": "stdout",
          "text": [
            "Epoch 1/10\n",
            "\u001b[1m46/46\u001b[0m \u001b[32m━━━━━━━━━━━━━━━━━━━━\u001b[0m\u001b[37m\u001b[0m \u001b[1m20s\u001b[0m 239ms/step - accuracy: 0.5665 - loss: 0.6738 - val_accuracy: 0.7869 - val_loss: 0.5173\n",
            "Epoch 2/10\n",
            "\u001b[1m46/46\u001b[0m \u001b[32m━━━━━━━━━━━━━━━━━━━━\u001b[0m\u001b[37m\u001b[0m \u001b[1m6s\u001b[0m 33ms/step - accuracy: 0.7931 - loss: 0.5051 - val_accuracy: 0.8125 - val_loss: 0.4406\n",
            "Epoch 3/10\n",
            "\u001b[1m46/46\u001b[0m \u001b[32m━━━━━━━━━━━━━━━━━━━━\u001b[0m\u001b[37m\u001b[0m \u001b[1m2s\u001b[0m 21ms/step - accuracy: 0.7815 - loss: 0.4858 - val_accuracy: 0.8269 - val_loss: 0.4064\n",
            "Epoch 4/10\n",
            "\u001b[1m46/46\u001b[0m \u001b[32m━━━━━━━━━━━━━━━━━━━━\u001b[0m\u001b[37m\u001b[0m \u001b[1m1s\u001b[0m 20ms/step - accuracy: 0.8227 - loss: 0.4308 - val_accuracy: 0.8397 - val_loss: 0.3815\n",
            "Epoch 5/10\n",
            "\u001b[1m46/46\u001b[0m \u001b[32m━━━━━━━━━━━━━━━━━━━━\u001b[0m\u001b[37m\u001b[0m \u001b[1m1s\u001b[0m 21ms/step - accuracy: 0.8232 - loss: 0.4088 - val_accuracy: 0.8381 - val_loss: 0.3629\n",
            "Epoch 6/10\n",
            "\u001b[1m46/46\u001b[0m \u001b[32m━━━━━━━━━━━━━━━━━━━━\u001b[0m\u001b[37m\u001b[0m \u001b[1m1s\u001b[0m 20ms/step - accuracy: 0.8210 - loss: 0.4002 - val_accuracy: 0.8462 - val_loss: 0.3520\n",
            "Epoch 7/10\n",
            "\u001b[1m46/46\u001b[0m \u001b[32m━━━━━━━━━━━━━━━━━━━━\u001b[0m\u001b[37m\u001b[0m \u001b[1m1s\u001b[0m 21ms/step - accuracy: 0.8353 - loss: 0.3801 - val_accuracy: 0.8526 - val_loss: 0.3411\n",
            "Epoch 8/10\n",
            "\u001b[1m46/46\u001b[0m \u001b[32m━━━━━━━━━━━━━━━━━━━━\u001b[0m\u001b[37m\u001b[0m \u001b[1m1s\u001b[0m 21ms/step - accuracy: 0.8287 - loss: 0.3933 - val_accuracy: 0.8494 - val_loss: 0.3435\n",
            "Epoch 9/10\n",
            "\u001b[1m46/46\u001b[0m \u001b[32m━━━━━━━━━━━━━━━━━━━━\u001b[0m\u001b[37m\u001b[0m \u001b[1m1s\u001b[0m 20ms/step - accuracy: 0.8416 - loss: 0.3780 - val_accuracy: 0.8590 - val_loss: 0.3273\n",
            "Epoch 10/10\n",
            "\u001b[1m46/46\u001b[0m \u001b[32m━━━━━━━━━━━━━━━━━━━━\u001b[0m\u001b[37m\u001b[0m \u001b[1m1s\u001b[0m 21ms/step - accuracy: 0.8517 - loss: 0.3656 - val_accuracy: 0.8654 - val_loss: 0.3227\n"
          ]
        },
        {
          "output_type": "display_data",
          "data": {
            "text/plain": [
              "<Figure size 1200x500 with 2 Axes>"
            ],
            "image/png": "[encoded data removed]"
          },
          "metadata": {}
        }
      ]
    },
    {
      "cell_type": "code",
      "source": [
        "#valutazione del modello\n",
        "\n",
        "results = model.evaluate(X_test, y_test, verbose=0)\n",
        "\n",
        "print(results)"
      ],
      "metadata": {
        "colab": {
          "base_uri": "https://localhost:8080/"
        },
        "id": "KLgXQH9p7pyw",
        "outputId": "bd92caf2-c390-411b-decc-bbceb1572577"
      },
      "execution_count": 15,
      "outputs": [
        {
          "output_type": "stream",
          "name": "stdout",
          "text": [
            "[0.3226874768733978, 0.8653846383094788]\n"
          ]
        }
      ]
    },
    {
      "cell_type": "code",
      "source": [
        "model.summary()"
      ],
      "metadata": {
        "colab": {
          "base_uri": "https://localhost:8080/",
          "height": 281
        },
        "id": "xDxAKOKjGvJI",
        "outputId": "97544fc6-2eb7-4219-a84c-8765d83c9dc6"
      },
      "execution_count": 17,
      "outputs": [
        {
          "output_type": "display_data",
          "data": {
            "text/plain": [
              "\u001b[1mModel: \"sequential\"\u001b[0m\n"
            ],
            "text/html": [
              "<pre style=\"white-space:pre;overflow-x:auto;line-height:normal;font-family:Menlo,'DejaVu Sans Mono',consolas,'Courier New',monospace\"><span style=\"font-weight: bold\">Model: \"sequential\"</span>\n",
              "</pre>\n"
            ]
          },
          "metadata": {}
        },
        {
          "output_type": "display_data",
          "data": {
            "text/plain": [
              "┏━━━━━━━━━━━━━━━━━━━━━━━━━━━━━━━━━┳━━━━━━━━━━━━━━━━━━━━━━━━┳━━━━━━━━━━━━━━━┓\n",
              "┃\u001b[1m \u001b[0m\u001b[1mLayer (type)                   \u001b[0m\u001b[1m \u001b[0m┃\u001b[1m \u001b[0m\u001b[1mOutput Shape          \u001b[0m\u001b[1m \u001b[0m┃\u001b[1m \u001b[0m\u001b[1m      Param #\u001b[0m\u001b[1m \u001b[0m┃\n",
              "┡━━━━━━━━━━━━━━━━━━━━━━━━━━━━━━━━━╇━━━━━━━━━━━━━━━━━━━━━━━━╇━━━━━━━━━━━━━━━┩\n",
              "│ mobilenetv2_0.35_1000           │ (\u001b[38;5;45mNone\u001b[0m, \u001b[38;5;34m32\u001b[0m, \u001b[38;5;34m2\u001b[0m, \u001b[38;5;34m1280\u001b[0m)    │       \u001b[38;5;34m409,920\u001b[0m │\n",
              "│ (\u001b[38;5;33mFunctional\u001b[0m)                    │                        │               │\n",
              "├─────────────────────────────────┼────────────────────────┼───────────────┤\n",
              "│ global_average_pooling2d        │ (\u001b[38;5;45mNone\u001b[0m, \u001b[38;5;34m1280\u001b[0m)           │             \u001b[38;5;34m0\u001b[0m │\n",
              "│ (\u001b[38;5;33mGlobalAveragePooling2D\u001b[0m)        │                        │               │\n",
              "├─────────────────────────────────┼────────────────────────┼───────────────┤\n",
              "│ dense (\u001b[38;5;33mDense\u001b[0m)                   │ (\u001b[38;5;45mNone\u001b[0m, \u001b[38;5;34m1\u001b[0m)              │         \u001b[38;5;34m1,281\u001b[0m │\n",
              "└─────────────────────────────────┴────────────────────────┴───────────────┘\n"
            ],
            "text/html": [
              "<pre style=\"white-space:pre;overflow-x:auto;line-height:normal;font-family:Menlo,'DejaVu Sans Mono',consolas,'Courier New',monospace\">┏━━━━━━━━━━━━━━━━━━━━━━━━━━━━━━━━━┳━━━━━━━━━━━━━━━━━━━━━━━━┳━━━━━━━━━━━━━━━┓\n",
              "┃<span style=\"font-weight: bold\"> Layer (type)                    </span>┃<span style=\"font-weight: bold\"> Output Shape           </span>┃<span style=\"font-weight: bold\">       Param # </span>┃\n",
              "┡━━━━━━━━━━━━━━━━━━━━━━━━━━━━━━━━━╇━━━━━━━━━━━━━━━━━━━━━━━━╇━━━━━━━━━━━━━━━┩\n",
              "│ mobilenetv2_0.35_1000           │ (<span style=\"color: #00d7ff; text-decoration-color: #00d7ff\">None</span>, <span style=\"color: #00af00; text-decoration-color: #00af00\">32</span>, <span style=\"color: #00af00; text-decoration-color: #00af00\">2</span>, <span style=\"color: #00af00; text-decoration-color: #00af00\">1280</span>)    │       <span style=\"color: #00af00; text-decoration-color: #00af00\">409,920</span> │\n",
              "│ (<span style=\"color: #0087ff; text-decoration-color: #0087ff\">Functional</span>)                    │                        │               │\n",
              "├─────────────────────────────────┼────────────────────────┼───────────────┤\n",
              "│ global_average_pooling2d        │ (<span style=\"color: #00d7ff; text-decoration-color: #00d7ff\">None</span>, <span style=\"color: #00af00; text-decoration-color: #00af00\">1280</span>)           │             <span style=\"color: #00af00; text-decoration-color: #00af00\">0</span> │\n",
              "│ (<span style=\"color: #0087ff; text-decoration-color: #0087ff\">GlobalAveragePooling2D</span>)        │                        │               │\n",
              "├─────────────────────────────────┼────────────────────────┼───────────────┤\n",
              "│ dense (<span style=\"color: #0087ff; text-decoration-color: #0087ff\">Dense</span>)                   │ (<span style=\"color: #00d7ff; text-decoration-color: #00d7ff\">None</span>, <span style=\"color: #00af00; text-decoration-color: #00af00\">1</span>)              │         <span style=\"color: #00af00; text-decoration-color: #00af00\">1,281</span> │\n",
              "└─────────────────────────────────┴────────────────────────┴───────────────┘\n",
              "</pre>\n"
            ]
          },
          "metadata": {}
        },
        {
          "output_type": "display_data",
          "data": {
            "text/plain": [
              "\u001b[1m Total params: \u001b[0m\u001b[38;5;34m413,765\u001b[0m (1.58 MB)\n"
            ],
            "text/html": [
              "<pre style=\"white-space:pre;overflow-x:auto;line-height:normal;font-family:Menlo,'DejaVu Sans Mono',consolas,'Courier New',monospace\"><span style=\"font-weight: bold\"> Total params: </span><span style=\"color: #00af00; text-decoration-color: #00af00\">413,765</span> (1.58 MB)\n",
              "</pre>\n"
            ]
          },
          "metadata": {}
        },
        {
          "output_type": "display_data",
          "data": {
            "text/plain": [
              "\u001b[1m Trainable params: \u001b[0m\u001b[38;5;34m1,281\u001b[0m (5.00 KB)\n"
            ],
            "text/html": [
              "<pre style=\"white-space:pre;overflow-x:auto;line-height:normal;font-family:Menlo,'DejaVu Sans Mono',consolas,'Courier New',monospace\"><span style=\"font-weight: bold\"> Trainable params: </span><span style=\"color: #00af00; text-decoration-color: #00af00\">1,281</span> (5.00 KB)\n",
              "</pre>\n"
            ]
          },
          "metadata": {}
        },
        {
          "output_type": "display_data",
          "data": {
            "text/plain": [
              "\u001b[1m Non-trainable params: \u001b[0m\u001b[38;5;34m409,920\u001b[0m (1.56 MB)\n"
            ],
            "text/html": [
              "<pre style=\"white-space:pre;overflow-x:auto;line-height:normal;font-family:Menlo,'DejaVu Sans Mono',consolas,'Courier New',monospace\"><span style=\"font-weight: bold\"> Non-trainable params: </span><span style=\"color: #00af00; text-decoration-color: #00af00\">409,920</span> (1.56 MB)\n",
              "</pre>\n"
            ]
          },
          "metadata": {}
        },
        {
          "output_type": "display_data",
          "data": {
            "text/plain": [
              "\u001b[1m Optimizer params: \u001b[0m\u001b[38;5;34m2,564\u001b[0m (10.02 KB)\n"
            ],
            "text/html": [
              "<pre style=\"white-space:pre;overflow-x:auto;line-height:normal;font-family:Menlo,'DejaVu Sans Mono',consolas,'Courier New',monospace\"><span style=\"font-weight: bold\"> Optimizer params: </span><span style=\"color: #00af00; text-decoration-color: #00af00\">2,564</span> (10.02 KB)\n",
              "</pre>\n"
            ]
          },
          "metadata": {}
        }
      ]
    }
  ]
}